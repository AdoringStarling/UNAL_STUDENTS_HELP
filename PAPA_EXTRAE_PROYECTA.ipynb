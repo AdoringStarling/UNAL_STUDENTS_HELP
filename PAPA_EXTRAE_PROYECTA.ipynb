{
  "nbformat": 4,
  "nbformat_minor": 5,
  "metadata": {
    "kernelspec": {
      "display_name": "Python 3",
      "language": "python",
      "name": "python3"
    },
    "language_info": {
      "codemirror_mode": {
        "name": "ipython",
        "version": 3
      },
      "file_extension": ".py",
      "mimetype": "text/x-python",
      "name": "python",
      "nbconvert_exporter": "python",
      "pygments_lexer": "ipython3",
      "version": "3.7.10"
    },
    "colab": {
      "name": "PAPA_EXTRAE_PROYECTA.ipynb",
      "provenance": []
    }
  },
  "cells": [
    {
      "cell_type": "markdown",
      "metadata": {
        "id": "b561c97b"
      },
      "source": [
        "# INSTRUCCION -Exporta y proyecta tu PAPA\n",
        "\n",
        "Por Juan Manuel Jiménez Vergara - Pregrado Geología UNAL Bogotá\n",
        "\n",
        "La primera parte radica en cargar los datos de tu historia académica, solo necesitas copiar y pegar!"
      ],
      "id": "b561c97b"
    },
    {
      "cell_type": "code",
      "metadata": {
        "id": "16e9e418"
      },
      "source": [
        "import pandas as pd\n",
        "import numpy as np\n",
        "import re"
      ],
      "id": "16e9e418",
      "execution_count": 12,
      "outputs": []
    },
    {
      "cell_type": "markdown",
      "metadata": {
        "id": "ce7e6d75"
      },
      "source": [
        "Como usarlo:\n",
        "\n",
        "-Debe copiar y pegar la tabla con las notas de mi historia académica con las siguientes limitantes:\n",
        "\n",
        "1.No incluya nombres de las columnas.\n",
        "\n",
        "2.No incluya materias que no tengan notas numéricas, por ejemplo, si ya tenía cumplido Suficiencia en lengua extranjera.\n",
        "\n",
        "3.Termine el texto con \"APROBADA\" o \"REPROBADA\".\n",
        "\n",
        "    \n",
        "A continuación, se muestra un ejemplo del formato:\n",
        "\n",
        "Materia 1\t3\tFUND. OBLIGATORIA\t2021-1S Ordinaria\t2.9 REPROBADA Materia 2\t3\tDISCIPLINAR OBLIGATORIA\t2021-1S Ordinaria\t4.0 APROBADA Materia 3\t3\tDISCIPLINAR OBLIGATORIA\t2021-1S Ordinaria\t4.4 APROBADA"
      ],
      "id": "ce7e6d75"
    },
    {
      "cell_type": "markdown",
      "metadata": {
        "id": "PvU-HxcMH1gc"
      },
      "source": [
        "    \n",
        "# Reproduzca una por una las siguientes celdas para importar y exportar tu PAPA\n",
        "\n",
        "La descarga se hará en formato Excel!\n"
      ],
      "id": "PvU-HxcMH1gc"
    },
    {
      "cell_type": "code",
      "metadata": {
        "colab": {
          "base_uri": "https://localhost:8080/"
        },
        "id": "44c9b350",
        "outputId": "076c4b15-7e6f-4aa5-f572-b9dce0c4f979"
      },
      "source": [
        "text=input('Ingrese los datos para elaborar la tabla: ')"
      ],
      "id": "44c9b350",
      "execution_count": 32,
      "outputs": [
        {
          "name": "stdout",
          "output_type": "stream",
          "text": [
            "Ingrese los datos para elaborar la tabla: Materia 1\t3\tFUND. OBLIGATORIA\t2021-1S Ordinaria\t2.9 REPROBADA Materia 2\t3\tDISCIPLINAR OBLIGATORIA\t2021-1S Ordinaria\t4.0 APROBADA Materia 3\t3\tDISCIPLINAR OBLIGATORIA\t2021-1S Ordinaria\t4.4 APROBADA\n"
          ]
        }
      ]
    },
    {
      "cell_type": "code",
      "metadata": {
        "id": "eb34743e"
      },
      "source": [
        "po=re.split(r\"\\t|APROBADA|REPROBADA\",text)\n",
        "po.remove('') \n",
        "materia,creditos,tipo,año,nota=[],[],[],[],[]\n",
        "conteo=0\n",
        "for i in range(len(po)):\n",
        "    print\n",
        "    if conteo==0:\n",
        "        materia.append(po[i])\n",
        "        conteo=conteo+1\n",
        "    elif conteo==1:\n",
        "        creditos.append(po[i])\n",
        "        conteo=conteo+1\n",
        "    elif conteo==2:\n",
        "        tipo.append(po[i])\n",
        "        conteo=conteo+1\n",
        "    elif conteo==3:\n",
        "        año.append(po[i])\n",
        "        conteo=conteo+1\n",
        "    elif conteo==4:\n",
        "        nota.append(po[i])\n",
        "        conteo=0\n",
        "nota=list(map(float, nota))\n",
        "creditos=list(map(float, creditos))\n",
        "materia,creditos,tipo,año,nota=np.array(materia),np.array(creditos),np.array(tipo),np.array(año),np.array(nota)"
      ],
      "id": "eb34743e",
      "execution_count": 25,
      "outputs": []
    },
    {
      "cell_type": "code",
      "metadata": {
        "colab": {
          "base_uri": "https://localhost:8080/",
          "height": 159
        },
        "id": "c9794c65",
        "outputId": "25c19dd1-8cda-44e6-f0bb-3fa983b5a239"
      },
      "source": [
        "df=pd.DataFrame()\n",
        "df['Materia']=materia\n",
        "df['Tipo']=tipo\n",
        "df['Año']=año\n",
        "df['Creditos']=creditos\n",
        "df['Nota']=nota\n",
        "papa=(creditos*nota).sum()/(creditos.sum())\n",
        "print('PAPA=',papa)\n",
        "df"
      ],
      "id": "c9794c65",
      "execution_count": 26,
      "outputs": [
        {
          "output_type": "stream",
          "name": "stdout",
          "text": [
            "PAPA= 3.7666666666666666\n"
          ]
        },
        {
          "output_type": "execute_result",
          "data": {
            "text/html": [
              "<div>\n",
              "<style scoped>\n",
              "    .dataframe tbody tr th:only-of-type {\n",
              "        vertical-align: middle;\n",
              "    }\n",
              "\n",
              "    .dataframe tbody tr th {\n",
              "        vertical-align: top;\n",
              "    }\n",
              "\n",
              "    .dataframe thead th {\n",
              "        text-align: right;\n",
              "    }\n",
              "</style>\n",
              "<table border=\"1\" class=\"dataframe\">\n",
              "  <thead>\n",
              "    <tr style=\"text-align: right;\">\n",
              "      <th></th>\n",
              "      <th>Materia</th>\n",
              "      <th>Tipo</th>\n",
              "      <th>Año</th>\n",
              "      <th>Creditos</th>\n",
              "      <th>Nota</th>\n",
              "    </tr>\n",
              "  </thead>\n",
              "  <tbody>\n",
              "    <tr>\n",
              "      <th>0</th>\n",
              "      <td>Materia 1</td>\n",
              "      <td>FUND. OBLIGATORIA</td>\n",
              "      <td>2021-1S Ordinaria</td>\n",
              "      <td>3.0</td>\n",
              "      <td>2.9</td>\n",
              "    </tr>\n",
              "    <tr>\n",
              "      <th>1</th>\n",
              "      <td>Materia 2</td>\n",
              "      <td>DISCIPLINAR OBLIGATORIA</td>\n",
              "      <td>2021-1S Ordinaria</td>\n",
              "      <td>3.0</td>\n",
              "      <td>4.0</td>\n",
              "    </tr>\n",
              "    <tr>\n",
              "      <th>2</th>\n",
              "      <td>Materia 3</td>\n",
              "      <td>DISCIPLINAR OBLIGATORIA</td>\n",
              "      <td>2021-1S Ordinaria</td>\n",
              "      <td>3.0</td>\n",
              "      <td>4.4</td>\n",
              "    </tr>\n",
              "  </tbody>\n",
              "</table>\n",
              "</div>"
            ],
            "text/plain": [
              "      Materia                     Tipo                Año  Creditos  Nota\n",
              "0   Materia 1        FUND. OBLIGATORIA  2021-1S Ordinaria       3.0   2.9\n",
              "1   Materia 2  DISCIPLINAR OBLIGATORIA  2021-1S Ordinaria       3.0   4.0\n",
              "2   Materia 3  DISCIPLINAR OBLIGATORIA  2021-1S Ordinaria       3.0   4.4"
            ]
          },
          "metadata": {},
          "execution_count": 26
        }
      ]
    },
    {
      "cell_type": "code",
      "metadata": {
        "id": "cd7a5711",
        "colab": {
          "base_uri": "https://localhost:8080/"
        },
        "outputId": "c1649921-b5eb-4bc9-d6a8-662faabfaa68"
      },
      "source": [
        "#Esto hará que se descargue la tabla en formato Excel\n",
        "url=input('Ingrese el nombre del archivo, pero asegúrese que termine con .xlsx para formato Excel: ')\n",
        "df.to_excel(url)"
      ],
      "id": "cd7a5711",
      "execution_count": 33,
      "outputs": [
        {
          "name": "stdout",
          "output_type": "stream",
          "text": [
            "Ingrese el nombre del archivo, pero asegúrese que termine con .xlsx para formato Excel: papa.xlsx\n"
          ]
        }
      ]
    },
    {
      "cell_type": "markdown",
      "metadata": {
        "id": "487f2e0b"
      },
      "source": [
        "# Proyecciones y visualizcion previa del PAPA:\n",
        "\n",
        "En esta parte del notebook podrá agregar posibles calificaciones para saber cómo cambiará su PAPA!"
      ],
      "id": "487f2e0b"
    },
    {
      "cell_type": "code",
      "metadata": {
        "colab": {
          "base_uri": "https://localhost:8080/",
          "height": 326
        },
        "id": "78e846fd",
        "outputId": "82570f7f-a548-40d4-c7d1-7734688c9e9e"
      },
      "source": [
        "cr1=[]\n",
        "no1=[]\n",
        "while True:\n",
        "    value1=float(input('Digite el numero de Creditos: '))\n",
        "    value2=float(input('Digite la Nota: '))\n",
        "    cr1.append(value1)\n",
        "    no1.append(value2)\n",
        "    confirm=input('¿Desea añadir mas datos? SI/(Otra cosa): ')\n",
        "    if confirm=='SI':\n",
        "      continue\n",
        "    else:\n",
        "      break\n",
        "creditos1=np.append(creditos, cr1)\n",
        "nota1=np.append(nota, no1)\n",
        "\n",
        "df1=pd.DataFrame()\n",
        "df1['Creditos']=creditos1\n",
        "df1['Nota']=nota1\n",
        "papa1=(creditos1*nota1).sum()/(creditos1.sum())\n",
        "print('Su proyeccion de PAPA sería: ',papa1)\n",
        "df1"
      ],
      "id": "78e846fd",
      "execution_count": 35,
      "outputs": [
        {
          "output_type": "stream",
          "name": "stdout",
          "text": [
            "Digite el numero de Creditos: 4\n",
            "Digite la Nota: 4.5\n",
            "¿Desea añadir mas datos? SI/(Otra cosa): SI\n",
            "Digite el numero de Creditos: 4\n",
            "Digite la Nota: 5\n",
            "¿Desea añadir mas datos? SI/(Otra cosa): XYZ\n",
            "Su proyeccion de PAPA sería:  4.229411764705882\n"
          ]
        },
        {
          "output_type": "execute_result",
          "data": {
            "text/html": [
              "<div>\n",
              "<style scoped>\n",
              "    .dataframe tbody tr th:only-of-type {\n",
              "        vertical-align: middle;\n",
              "    }\n",
              "\n",
              "    .dataframe tbody tr th {\n",
              "        vertical-align: top;\n",
              "    }\n",
              "\n",
              "    .dataframe thead th {\n",
              "        text-align: right;\n",
              "    }\n",
              "</style>\n",
              "<table border=\"1\" class=\"dataframe\">\n",
              "  <thead>\n",
              "    <tr style=\"text-align: right;\">\n",
              "      <th></th>\n",
              "      <th>Creditos</th>\n",
              "      <th>Nota</th>\n",
              "    </tr>\n",
              "  </thead>\n",
              "  <tbody>\n",
              "    <tr>\n",
              "      <th>0</th>\n",
              "      <td>3.0</td>\n",
              "      <td>2.9</td>\n",
              "    </tr>\n",
              "    <tr>\n",
              "      <th>1</th>\n",
              "      <td>3.0</td>\n",
              "      <td>4.0</td>\n",
              "    </tr>\n",
              "    <tr>\n",
              "      <th>2</th>\n",
              "      <td>3.0</td>\n",
              "      <td>4.4</td>\n",
              "    </tr>\n",
              "    <tr>\n",
              "      <th>3</th>\n",
              "      <td>4.0</td>\n",
              "      <td>4.5</td>\n",
              "    </tr>\n",
              "    <tr>\n",
              "      <th>4</th>\n",
              "      <td>4.0</td>\n",
              "      <td>5.0</td>\n",
              "    </tr>\n",
              "  </tbody>\n",
              "</table>\n",
              "</div>"
            ],
            "text/plain": [
              "   Creditos  Nota\n",
              "0       3.0   2.9\n",
              "1       3.0   4.0\n",
              "2       3.0   4.4\n",
              "3       4.0   4.5\n",
              "4       4.0   5.0"
            ]
          },
          "metadata": {},
          "execution_count": 35
        }
      ]
    }
  ]
}